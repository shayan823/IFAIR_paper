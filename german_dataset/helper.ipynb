{
 "cells": [
  {
   "cell_type": "code",
   "execution_count": 1,
   "metadata": {},
   "outputs": [],
   "source": [
    "import numpy as np"
   ]
  },
  {
   "cell_type": "code",
   "execution_count": 2,
   "metadata": {},
   "outputs": [],
   "source": [
    "def distances(X, v, alpha, M, N, k):\n",
    "#     define p for the Minkoswski distance between x_i and v_j\n",
    "\n",
    "    p = 2\n",
    "    dists = np.zeros((M,k))\n",
    "    for i in range(M):\n",
    "        for l in range(N):\n",
    "            for j in range(k):\n",
    "                dists[i,j] += np.power((X[i,l]-v[j,l]),p)*alpha[l]\n",
    "    dists = np.power(dists,1/p)\n",
    "    return dists"
   ]
  },
  {
   "cell_type": "code",
   "execution_count": 3,
   "metadata": {},
   "outputs": [],
   "source": [
    "def mu_ik(dists, M, k):\n",
    "    u = np.zeros((M,k))\n",
    "    exp = np.zeros((M,k))\n",
    "    denom = np.zeros(M)\n",
    "    for i in range(M):\n",
    "        for j in range(k):\n",
    "            exp[i,j] = np.exp(-1*dists[i,j])\n",
    "            denom[i] += exp[i,j]\n",
    "        for j in range(k):\n",
    "            if denom[i]:\n",
    "                u[i,j] = exp[i,j]/denom[i]\n",
    "            else:\n",
    "                u[i,j] = exp[i,j]/1e-6\n",
    "    return u    "
   ]
  },
  {
   "cell_type": "code",
   "execution_count": 4,
   "metadata": {},
   "outputs": [],
   "source": [
    "def x_hat(X, u, v, M, N, k):\n",
    "#     New low rank representation of X (M*N) is initialized as x_hat\n",
    "    x_hat = np.zeros((M, N))\n",
    "#     Loss due to loss of data\n",
    "    L_util = 0.0 \n",
    "    for i in range(M):\n",
    "        for l in range(N):\n",
    "            for j in range(k):\n",
    "                x_hat[i, l] += u[i, j] * v[j, p]\n",
    "            L_util += (X[i, l] - x_hat[i, l]) * (X[i, l] - x_hat[i, l])\n",
    "    return x_n_hat, L_util"
   ]
  },
  {
   "cell_type": "code",
   "execution_count": null,
   "metadata": {},
   "outputs": [],
   "source": [
    "def dist_vec(x, y, N):\n",
    "    "
   ]
  }
 ],
 "metadata": {
  "kernelspec": {
   "display_name": "Python 3",
   "language": "python",
   "name": "python3"
  },
  "language_info": {
   "codemirror_mode": {
    "name": "ipython",
    "version": 3
   },
   "file_extension": ".py",
   "mimetype": "text/x-python",
   "name": "python",
   "nbconvert_exporter": "python",
   "pygments_lexer": "ipython3",
   "version": "3.7.4"
  }
 },
 "nbformat": 4,
 "nbformat_minor": 2
}
